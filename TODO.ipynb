{
 "cells": [
  {
   "cell_type": "markdown",
   "metadata": {},
   "source": [
    "## Code\n",
    "### utils/\n",
    "\n",
    "- [ ] seeded_downsample.py (Elliot)\n",
    "- [x] sparse_matrix_construction.py (anyone)\n",
    "- [ ] read_matrix.py (anyone)\n",
    "- [ ] segment_matrix.py (anyone)\n",
    "\n",
    "### stats/\n",
    "\n",
    "- [x] gaussian_blur.py (Samy)\n",
    "- [ ] directional_semivariogram.py (Samy)\n",
    "- [ ] window_average.py (Varun)\n",
    "\n",
    "### model/\n",
    "\n",
    "- [ ] cnn_model.py (Elliot)\n",
    "\n",
    "### visualize/\n",
    "\n",
    "- [ ] tensorboards/ (folder)\n",
    "- [ ] logs/ (folder)"
   ]
  },
  {
   "cell_type": "markdown",
   "metadata": {},
   "source": [
    "### utils/\n",
    "\n",
    "- seeded_downsample.py\n",
    "    \n",
    "    input: a tab-delimited file with three columns: row_index, column_index, value\n",
    "    e.g. 9410000 9410000 208.0\n",
    "        9410000 9420000 30.0\n",
    "        9420000 9420000 37.0\n",
    "        9420000 9440000 2.0\n",
    "        9410000 9450000 1.0\n",
    "        9410000 9570000 2.0\n",
    "        9420000 9570000 1.0\n",
    "        9570000 9570000 80.0\n",
    "        9410000 9580000 2.0\n",
    "        9570000 9580000 14.0 \n",
    "\n",
    "    output: a file containing a randomly-downsampled (sample without replacement) version of the input file, and the chosen seed\n",
    "\n",
    "\n",
    "- sparse_matrix_construction.py:\n",
    "    \n",
    "    input: a file like the one given as input to seeded_downsample.py\n",
    "        \n",
    "    output: a scipy.sparse matrix representation of a matrix whose [row_index, columndex] entry is [value] (where row_index and column_index are obtained from the first and second fields of the input file)\n",
    "\n",
    "\n",
    "- read_matrix.py: \n",
    "\n",
    "    input: a scipy.sparse matrix.\n",
    "    \n",
    "    output: the numpy array version of the sparse matrix.\n",
    "    \n",
    "    idea: a wrapper around the .toarray() or .todense() method in various scipy.sparse.<type of sparse matrix\\> classes\n",
    "    \n",
    "    \n",
    "- segment_matrix.py:\n",
    "\n",
    "    input: a scipy.sparse matrix or numpy array, and a square window dimension (an odd integer).\n",
    "    \n",
    "    output: an iterator that can be used to create the square-window-dimension-sized subarrays to pass as input to the CNN."
   ]
  },
  {
   "cell_type": "markdown",
   "metadata": {},
   "source": [
    "### stats\n",
    "\n",
    "- directional_semivariogram:\n",
    "    \n",
    "    input: a scipy.sparse matrix or numpy array representation of a data matrix.\n",
    "        \n",
    "    output: the semivariogram of the lower triangular input matrix.\n",
    "\n",
    "- gaussian_blur: \n",
    "    \n",
    "    input: a scipy.sparse matrix or numpy array representation of a data matrix.\n",
    "        \n",
    "    output: a version of the matrix/array that has been blurred with a gaussian kernel.\n",
    "\n",
    "- average: \n",
    "    \n",
    "    input: a square numpy array with an odd-sized dimension (e.g. 3, 5, 7, etc...).\n",
    "        \n",
    "    output: the average of all values in the input array _except_ for the entry at its center. "
   ]
  },
  {
   "cell_type": "markdown",
   "metadata": {},
   "source": [
    "### model\n",
    "\n",
    "- cnn_model:\n",
    "\n",
    "    class definitions for the models that will be used (e.g. Elliot_CNN). "
   ]
  },
  {
   "cell_type": "markdown",
   "metadata": {},
   "source": [
    "### visualize/\n",
    "\n",
    "#### Nothing, will just be a folder where the tensorboards and logs can be kept"
   ]
  },
  {
   "cell_type": "code",
   "execution_count": null,
   "metadata": {},
   "outputs": [],
   "source": []
  }
 ],
 "metadata": {
  "kernelspec": {
   "display_name": "Python 3",
   "language": "python",
   "name": "python3"
  },
  "language_info": {
   "codemirror_mode": {
    "name": "ipython",
    "version": 3
   },
   "file_extension": ".py",
   "mimetype": "text/x-python",
   "name": "python",
   "nbconvert_exporter": "python",
   "pygments_lexer": "ipython3",
   "version": "3.6.7"
  }
 },
 "nbformat": 4,
 "nbformat_minor": 2
}
